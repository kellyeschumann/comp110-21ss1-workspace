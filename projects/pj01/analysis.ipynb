{
 "metadata": {
  "language_info": {
   "codemirror_mode": {
    "name": "ipython",
    "version": 3
   },
   "file_extension": ".py",
   "mimetype": "text/x-python",
   "name": "python",
   "nbconvert_exporter": "python",
   "pygments_lexer": "ipython3",
   "version": "3.9.5"
  },
  "orig_nbformat": 2,
  "kernelspec": {
   "name": "python395jvsc74a57bd0e7a26f5bebd1b9da0f051359361ac514eb1c970e7ede8197699eeb788ac44870",
   "display_name": "Python 3.9.5 64-bit ('3.9')"
  },
  "metadata": {
   "interpreter": {
    "hash": "e7a26f5bebd1b9da0f051359361ac514eb1c970e7ede8197699eeb788ac44870"
   }
  }
 },
 "nbformat": 4,
 "nbformat_minor": 2,
 "cells": [
  {
   "source": [
    "## Hypothesis: I think that students who have Computer Science as their primary major are more likely to recommend the course in the fall.\n",
    "\n",
    "\n",
    "First, I will read in the csv and convert it to a column-oriented data table."
   ],
   "cell_type": "markdown",
   "metadata": {}
  },
  {
   "source": [
    "__author__ = \"730314660\"\n",
    "\n",
    "%reload_ext autoreload\n",
    "%autoreload 2\n",
    "\n",
    "DATA_DIRECTORY=\"../../data\"\n",
    "DATA_FILE_PATH=f\"{DATA_DIRECTORY}/survey.csv\"\n",
    "\n",
    "from data_utils import read_csv_rows, columnar\n",
    "\n",
    "data_rows: list[dict[str, str]] = read_csv_rows(DATA_FILE_PATH)\n",
    "data_cols: dict[str, list[str]] = columnar(data_rows)\n",
    "\n",
    "\n",
    "\n"
   ],
   "cell_type": "code",
   "metadata": {},
   "execution_count": 59,
   "outputs": [
    {
     "output_type": "stream",
     "name": "stdout",
     "text": [
      "The key is \nThe key is row_number\nThe key is year\nThe key is unc_status\nThe key is comp_major\nThe key is primary_major\nThe key is prereqs\nThe key is prior_exp\nThe key is AP_Principles\nThe key is AP_A\nThe key is other_comp\nThe key is prior_time\nThe key is languages\nThe key is residency\nThe key is on_campus\nThe key is international\nThe key is section\nThe key is lesson_time\nThe key is sync_perf\nThe key is all_sync\nThe key is own_notes\nThe key is own_examples\nThe key is oh_visits\nThe key is ls_effective\nThe key is lsqs_effective\nThe key is programming_effective\nThe key is qz_effective\nThe key is oh_effective\nThe key is tutoring_effective\nThe key is kaki_effective\nThe key is pace\nThe key is difficulty\nThe key is understanding\nThe key is interested\nThe key is valuable\nThe key is would_recommend\n"
     ]
    }
   ]
  },
  {
   "source": [
    "## Now, I will select just the \"comp_major\" column (Yes or No) and the \"would_recommend\" column (scale of 1-7)."
   ],
   "cell_type": "markdown",
   "metadata": {}
  },
  {
   "source": [
    "from data_utils import select, head\n",
    "from tabulate import tabulate\n",
    "\n",
    "selected_data: dict[str, list[str]] = select(data_cols, [\"comp_major\", \"would_recommend\"])\n",
    "\n",
    "tabulate(head(selected_data, 503), selected_data.keys(), \"html\")"
   ],
   "cell_type": "code",
   "metadata": {},
   "execution_count": null,
   "outputs": []
  },
  {
   "source": [
    "## Now, I will find the total number of students majoring/minoring in Computer Science and the total number of students with other majors/minors."
   ],
   "cell_type": "markdown",
   "metadata": {}
  },
  {
   "source": [
    "from data_utils import columnar\n",
    "\n",
    "i: int = 0\n",
    "comp_total: int = 0\n",
    "else_total: int = 0\n",
    "comp_major: list[str] = selected_data[\"comp_major\"]\n",
    "would_rec: list[str] = selected_data[\"would_recommend\"]\n",
    "while i < 502:\n",
    "    if comp_major[i] == \"No\":\n",
    "        else_total += int(would_rec[i])\n",
    "    else:\n",
    "        comp_total += int(would_rec[i])\n",
    "    i += 1\n",
    "print(comp_total)\n",
    "print(else_total)"
   ],
   "cell_type": "code",
   "metadata": {},
   "execution_count": 61,
   "outputs": [
    {
     "output_type": "stream",
     "name": "stdout",
     "text": [
      "1042\n1803\n"
     ]
    }
   ]
  },
  {
   "source": [
    "## Next, I will count the frequency of each response."
   ],
   "cell_type": "markdown",
   "metadata": {}
  },
  {
   "source": [
    "from data_utils import count\n",
    "\n",
    "comp_counts: dict[str, int] = count(selected_data[\"comp_major\"])\n",
    "print(f\"comp_counts: {comp_counts}\")\n",
    "\n",
    "recommend_counts: dict[str, int] = count(selected_data[\"would_recommend\"])\n",
    "print(f\"recommend_counts: {recommend_counts}\")"
   ],
   "cell_type": "code",
   "metadata": {},
   "execution_count": 62,
   "outputs": [
    {
     "output_type": "stream",
     "name": "stdout",
     "text": [
      "comp_counts: {'No': 331, 'Yes - BS': 60, 'Yes - Minor': 65, 'Yes - BA': 46}\nrecommend_counts: {'6': 116, '7': 191, '4': 80, '3': 22, '5': 82, '1': 6, '2': 5}\n"
     ]
    }
   ]
  },
  {
   "source": [
    "## Next, I will find the average rating of recommending the course for both Comp Majors and non-Comp Majors."
   ],
   "cell_type": "markdown",
   "metadata": {}
  },
  {
   "source": [
    "comp_avg: float = float(comp_agg)/(502-331)\n",
    "else_avg: float = float(else_agg)/331\n",
    "print(comp_avg)\n",
    "print(else_avg)"
   ],
   "cell_type": "code",
   "metadata": {},
   "execution_count": 63,
   "outputs": [
    {
     "output_type": "stream",
     "name": "stdout",
     "text": [
      "6.093567251461988\n5.447129909365559\n"
     ]
    }
   ]
  },
  {
   "source": [
    "## Conclusion\n",
    "\n",
    "On average, students with a Computer Science major/minor recommend taking COMP 110 more than students without a Computer Science major/minor.  On average, Comp Sci students recommend the course a 6.0936 on a 1 to 7 scale, while non Comp Sci students recommend the course a 5.4471 on a 1 to 7 scale."
   ],
   "cell_type": "markdown",
   "metadata": {}
  }
 ]
}